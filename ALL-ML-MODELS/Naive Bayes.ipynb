{
 "cells": [
  {
   "cell_type": "markdown",
   "id": "afa70d3f",
   "metadata": {},
   "source": [
    "# Naive Bayes Classifier\n",
    "\n",
    "There are three kinds of naive Bayes classifiers implemented in scikitlearn: GaussianNB, BernoulliNB, MultinomialNB.\n",
    "GaussianNB can be applied to any continuous data\n",
    "BernoulliNB assumes binary data\n",
    "MultinomialNB assumes count data(that is, that each feature represents an integer count of something, like how often a word appears in a sentence).\n",
    "\n",
    "** BernoulliNB and MultinomialNB are most used in text data classification."
   ]
  },
  {
   "cell_type": "code",
   "execution_count": null,
   "id": "440b4e43",
   "metadata": {},
   "outputs": [],
   "source": []
  }
 ],
 "metadata": {
  "kernelspec": {
   "display_name": "Python 3",
   "language": "python",
   "name": "python3"
  },
  "language_info": {
   "codemirror_mode": {
    "name": "ipython",
    "version": 3
   },
   "file_extension": ".py",
   "mimetype": "text/x-python",
   "name": "python",
   "nbconvert_exporter": "python",
   "pygments_lexer": "ipython3",
   "version": "3.8.8"
  }
 },
 "nbformat": 4,
 "nbformat_minor": 5
}
